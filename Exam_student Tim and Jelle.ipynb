{
 "cells": [
  {
   "cell_type": "markdown",
   "metadata": {},
   "source": [
    "# Exam R\n",
    "NAME = \"Jelle Veldman\" #2011313 #u669221 \n",
    "\n",
    "COLLABORATORS = \"Tim van der Heijden\" #2013169 #u160130\n",
    "\n",
    "# Introduction\n",
    "\n",
    "The exam consists of 2 parts. In the first part, you have to run a regression, test if the assumptions of a linear regression model are met, and make 2 graphs.\n",
    "\n",
    "In the second part of the exam, you will have to make a map of Catholic and Protestant schools in the Netherlands.\n",
    "\n",
    "# Packages\n"
   ]
  },
  {
   "cell_type": "code",
   "execution_count": 265,
   "metadata": {},
   "outputs": [],
   "source": [
    "library(tidyverse)\n",
    "library(gvlma)\n",
    "library(dplyr)"
   ]
  },
  {
   "cell_type": "markdown",
   "metadata": {},
   "source": [
    "# Assignment 1\n",
    "\n",
    "\n",
    "## Data\n",
    "\n",
    "The data are given:\n"
   ]
  },
  {
   "cell_type": "code",
   "execution_count": 79,
   "metadata": {},
   "outputs": [],
   "source": [
    "set.seed(123)\n",
    "df1 <- as.data.frame(matrix(runif(1*50, min = 1, max = 10), ncol = 1)) %>%\n",
    "    mutate(epsilon = rnorm(50, mean = 0, sd = 2)) %>%\n",
    "    mutate(response = 3 - 2* V1  + epsilon) %>%\n",
    "    mutate(group = ifelse(V1 <= 5, 1,2))"
   ]
  },
  {
   "cell_type": "markdown",
   "metadata": {},
   "source": [
    "## Asignment 1a\n",
    "\n",
    "The first assigment is to make boxplot using ggplot with group on the x-axis and V1 on the y-axis."
   ]
  },
  {
   "cell_type": "code",
   "execution_count": 94,
   "metadata": {},
   "outputs": [
    {
     "data": {},
     "metadata": {},
     "output_type": "display_data"
    },
    {
     "data": {
      "image/png": "[encoded data removed]",
      "text/plain": [
       "plot without title"
      ]
     },
     "metadata": {},
     "output_type": "display_data"
    }
   ],
   "source": [
    "ggplot (df1, aes(x = factor(group), y = V1)) + \n",
    "    geom_boxplot() +\n",
    "    xlab('group')\n",
    "#Using ggplot we made a boxplot of the function given above. We used a factor for the x-axes because of the continious varibale."
   ]
  },
  {
   "cell_type": "markdown",
   "metadata": {},
   "source": [
    "## Assignment 1b\n",
    "\n",
    "Run a regression with response variable as a function of V1.\n",
    "Show the summary statistics of the regression.\n"
   ]
  },
  {
   "cell_type": "code",
   "execution_count": 95,
   "metadata": {},
   "outputs": [
    {
     "data": {
      "text/plain": [
       "\n",
       "Call:\n",
       "lm(formula = V1 ~ group, data = df1)\n",
       "\n",
       "Residuals:\n",
       "     Min       1Q   Median       3Q      Max \n",
       "-2.49501 -1.05796  0.02595  1.34275  2.37341 \n",
       "\n",
       "Coefficients:\n",
       "            Estimate Std. Error t value Pr(>|t|)    \n",
       "(Intercept)  -1.4450     0.6707  -2.154   0.0363 *  \n",
       "group         4.5100     0.4052  11.130 6.78e-15 ***\n",
       "---\n",
       "Signif. codes:  0 '***' 0.001 '**' 0.01 '*' 0.05 '.' 0.1 ' ' 1\n",
       "\n",
       "Residual standard error: 1.414 on 48 degrees of freedom\n",
       "Multiple R-squared:  0.7207,\tAdjusted R-squared:  0.7149 \n",
       "F-statistic: 123.9 on 1 and 48 DF,  p-value: 6.783e-15\n"
      ]
     },
     "metadata": {},
     "output_type": "display_data"
    }
   ],
   "source": [
    "reg1 <- lm(data=df1, V1 ~ group)\n",
    "summary(reg1)\n",
    "#WE ran the regression with a simple lm formula. We used the data tomake thsi regression"
   ]
  },
  {
   "cell_type": "markdown",
   "metadata": {},
   "source": [
    "check if the assumptions of linear regression are met with the `gvlma()` function."
   ]
  },
  {
   "cell_type": "code",
   "execution_count": 96,
   "metadata": {},
   "outputs": [
    {
     "data": {
      "text/plain": [
       "\n",
       "Call:\n",
       "lm(formula = V1 ~ group, data = df1)\n",
       "\n",
       "Coefficients:\n",
       "(Intercept)        group  \n",
       "     -1.445        4.510  \n",
       "\n",
       "\n",
       "ASSESSMENT OF THE LINEAR MODEL ASSUMPTIONS\n",
       "USING THE GLOBAL TEST ON 4 DEGREES-OF-FREEDOM:\n",
       "Level of Significance =  0.05 \n",
       "\n",
       "Call:\n",
       " gvlma(x = reg1) \n",
       "\n",
       "                       Value p-value                Decision\n",
       "Global Stat        3.756e+00  0.4401 Assumptions acceptable.\n",
       "Skewness           1.037e-01  0.7474 Assumptions acceptable.\n",
       "Kurtosis           2.627e+00  0.1050 Assumptions acceptable.\n",
       "Link Function      5.991e-15  1.0000 Assumptions acceptable.\n",
       "Heteroscedasticity 1.025e+00  0.3114 Assumptions acceptable."
      ]
     },
     "metadata": {},
     "output_type": "display_data"
    }
   ],
   "source": [
    "gvlma(reg1)\n",
    "#The assumptions with the regression are met according to the gvlma() function"
   ]
  },
  {
   "cell_type": "markdown",
   "metadata": {},
   "source": [
    "## Assignment 1c\n",
    "\n",
    "Make a scatterplot with: \n",
    "* V1 on the x-axis and the response on the y-axis\n",
    "* Include the regression line in red with confidence interval \n",
    "* In a classic theme\n",
    "* The x-axis should be labeled \"Predictor\", the y-axis should be labeled (\"Response\")\n",
    "\n"
   ]
  },
  {
   "cell_type": "code",
   "execution_count": 93,
   "metadata": {},
   "outputs": [
    {
     "data": {},
     "metadata": {},
     "output_type": "display_data"
    },
    {
     "data": {
      "image/png": "[encoded data removed]",
      "text/plain": [
       "plot without title"
      ]
     },
     "metadata": {},
     "output_type": "display_data"
    }
   ],
   "source": [
    "ggplot (df1, aes(x = V1, y = response)) + \n",
    "    geom_point() +\n",
    "    geom_smooth(method='lm',formula=y~x, color = \"red\") +\n",
    "    theme_classic() +\n",
    "    xlab(\"Predictor\") +\n",
    "    ylab(\"Response\")\n",
    "#We made a scatterplot using the ggplot2 package. By adding a classic theme and a lm method we created the plot below "
   ]
  },
  {
   "cell_type": "markdown",
   "metadata": {},
   "source": [
    "# Assigment 2\n",
    "\n",
    "# Packages"
   ]
  },
  {
   "cell_type": "code",
   "execution_count": null,
   "metadata": {},
   "outputs": [],
   "source": [
    "install.packages('maptools', repos='http://cran.us.r-project.org')\n",
    "install.packages('rgdal', repos='http://cran.us.r-project.org')\n",
    "install.packages('rgeos', repos='http://cran.us.r-project.org')"
   ]
  },
  {
   "cell_type": "code",
   "execution_count": null,
   "metadata": {},
   "outputs": [],
   "source": [
    "install.packages(\"../Downloads//thematicmaps_2.1.tar.gz\", repos = NULL, type = \"source\")"
   ]
  },
  {
   "cell_type": "code",
   "execution_count": null,
   "metadata": {},
   "outputs": [],
   "source": [
    "library(thematicmaps)\n",
    "library(tidyverse)\n",
    "#we installed all the nececary packages and imported the libraries for the questons below"
   ]
  },
  {
   "cell_type": "markdown",
   "metadata": {},
   "source": [
    "## Assignment 2a\n",
    "\n",
    "First you have to read in the file \"nld_municipal_map.csv\".\n",
    "Hint: Look at the notebook of week 6 about maps."
   ]
  },
  {
   "cell_type": "code",
   "execution_count": 148,
   "metadata": {},
   "outputs": [
    {
     "data": {
      "text/html": [
       "<table>\n",
       "<thead><tr><th scope=col>name</th><th scope=col>id</th><th scope=col>x</th><th scope=col>y</th><th scope=col>order</th><th scope=col>hole</th><th scope=col>piece</th><th scope=col>group</th></tr></thead>\n",
       "<tbody>\n",
       "\t<tr><td>Appingedam      </td><td>0               </td><td>251260.527548325</td><td>594393.827234474</td><td>1               </td><td>FALSE           </td><td>1               </td><td>0.1             </td></tr>\n",
       "\t<tr><td>Appingedam      </td><td>0               </td><td>251427.775868901</td><td>594486.747111725</td><td>2               </td><td>FALSE           </td><td>1               </td><td>0.1             </td></tr>\n",
       "\t<tr><td>Appingedam      </td><td>0               </td><td>251668.842999999</td><td>594646.77       </td><td>3               </td><td>FALSE           </td><td>1               </td><td>0.1             </td></tr>\n",
       "\t<tr><td>Appingedam      </td><td>0               </td><td>251713.521000002</td><td>594770.885000002</td><td>4               </td><td>FALSE           </td><td>1               </td><td>0.1             </td></tr>\n",
       "\t<tr><td>Appingedam      </td><td>0               </td><td>251354.585000001</td><td>595461.381999999</td><td>5               </td><td>FALSE           </td><td>1               </td><td>0.1             </td></tr>\n",
       "\t<tr><td>Appingedam      </td><td>0               </td><td>251310.272      </td><td>596022.542      </td><td>6               </td><td>FALSE           </td><td>1               </td><td>0.1             </td></tr>\n",
       "</tbody>\n",
       "</table>\n"
      ],
      "text/latex": [
       "\\begin{tabular}{r|llllllll}\n",
       " name & id & x & y & order & hole & piece & group\\\\\n",
       "\\hline\n",
       "\t Appingedam       & 0                & 251260.527548325 & 594393.827234474 & 1                & FALSE            & 1                & 0.1             \\\\\n",
       "\t Appingedam       & 0                & 251427.775868901 & 594486.747111725 & 2                & FALSE            & 1                & 0.1             \\\\\n",
       "\t Appingedam       & 0                & 251668.842999999 & 594646.77        & 3                & FALSE            & 1                & 0.1             \\\\\n",
       "\t Appingedam       & 0                & 251713.521000002 & 594770.885000002 & 4                & FALSE            & 1                & 0.1             \\\\\n",
       "\t Appingedam       & 0                & 251354.585000001 & 595461.381999999 & 5                & FALSE            & 1                & 0.1             \\\\\n",
       "\t Appingedam       & 0                & 251310.272       & 596022.542       & 6                & FALSE            & 1                & 0.1             \\\\\n",
       "\\end{tabular}\n"
      ],
      "text/markdown": [
       "\n",
       "name | id | x | y | order | hole | piece | group | \n",
       "|---|---|---|---|---|---|\n",
       "| Appingedam       | 0                | 251260.527548325 | 594393.827234474 | 1                | FALSE            | 1                | 0.1              | \n",
       "| Appingedam       | 0                | 251427.775868901 | 594486.747111725 | 2                | FALSE            | 1                | 0.1              | \n",
       "| Appingedam       | 0                | 251668.842999999 | 594646.77        | 3                | FALSE            | 1                | 0.1              | \n",
       "| Appingedam       | 0                | 251713.521000002 | 594770.885000002 | 4                | FALSE            | 1                | 0.1              | \n",
       "| Appingedam       | 0                | 251354.585000001 | 595461.381999999 | 5                | FALSE            | 1                | 0.1              | \n",
       "| Appingedam       | 0                | 251310.272       | 596022.542       | 6                | FALSE            | 1                | 0.1              | \n",
       "\n",
       "\n"
      ],
      "text/plain": [
       "  name       id x                y                order hole  piece group\n",
       "1 Appingedam 0  251260.527548325 594393.827234474 1     FALSE 1     0.1  \n",
       "2 Appingedam 0  251427.775868901 594486.747111725 2     FALSE 1     0.1  \n",
       "3 Appingedam 0  251668.842999999 594646.77        3     FALSE 1     0.1  \n",
       "4 Appingedam 0  251713.521000002 594770.885000002 4     FALSE 1     0.1  \n",
       "5 Appingedam 0  251354.585000001 595461.381999999 5     FALSE 1     0.1  \n",
       "6 Appingedam 0  251310.272       596022.542       6     FALSE 1     0.1  "
      ]
     },
     "metadata": {},
     "output_type": "display_data"
    }
   ],
   "source": [
    "map_municipal <- read.csv2(file = \"../Downloads/Assignment R week 5/Sourcedata/nld_municipal_map.csv\", stringsAsFactors = FALSE, sep = \";\")\n",
    "head(map_municipal)\n",
    "#by reading the csv file and seperationg the data by a semi-column, we created the table."
   ]
  },
  {
   "cell_type": "markdown",
   "metadata": {},
   "source": [
    "## Assignment 2b\n",
    "\n",
    "Now you can make an empty map of the Netherlands."
   ]
  },
  {
   "cell_type": "code",
   "execution_count": 149,
   "metadata": {},
   "outputs": [
    {
     "data": {},
     "metadata": {},
     "output_type": "display_data"
    },
    {
     "data": {
      "image/png": "[encoded data removed]",
      "text/plain": [
       "plot without title"
      ]
     },
     "metadata": {},
     "output_type": "display_data"
    }
   ],
   "source": [
    "AddMapLayer(MapPlot(), map_municipal)\n",
    "# we tried to create the simple map of the Netherlands using the data, but unfortunately the software of the computer messed up\n",
    "# (that is what we assume). But the map is present as you can see below."
   ]
  },
  {
   "cell_type": "markdown",
   "metadata": {},
   "source": [
    "## Assignment 2c\n",
    "\n",
    "Read in the pc4 locations (nld_pc4_locations.csv).\n",
    "\n",
    "Hint: Don't forget the X and Y should be numeric variables!"
   ]
  },
  {
   "cell_type": "code",
   "execution_count": 159,
   "metadata": {},
   "outputs": [
    {
     "name": "stdout",
     "output_type": "stream",
     "text": [
      "'data.frame':\t4066 obs. of  3 variables:\n",
      " $ PC4: int  1011 1012 1013 1014 1015 1016 1017 1018 1019 1021 ...\n",
      " $ X  : Factor w/ 4066 levels \"100024.115074611\",..: 528 513 482 460 491 485 502 543 559 544 ...\n",
      " $ Y  : Factor w/ 4066 levels \"308396.770615801\",..: 2500 2509 2557 2552 2518 2497 2473 2487 2501 2529 ...\n"
     ]
    }
   ],
   "source": [
    "pc4_locations <- read.csv2(file = \"../Downloads/Assignment R week 5/Sourcedata/nld_pc4_locations.csv\")\n",
    "\n",
    "str(pc4_locations)\n",
    "#reading the csv file as done before. No further explanation needed. "
   ]
  },
  {
   "cell_type": "markdown",
   "metadata": {},
   "source": [
    "## Assignment 2d\n",
    "\n",
    "### 2di\n",
    "\n",
    "Read in the school data\n"
   ]
  },
  {
   "cell_type": "code",
   "execution_count": 160,
   "metadata": {},
   "outputs": [],
   "source": [
    "schools <- read.csv2(file = \"../Downloads/Assignment R week 5/Sourcedata/schools.csv\")"
   ]
  },
  {
   "cell_type": "markdown",
   "metadata": {},
   "source": [
    "### 2dii\n",
    "\n",
    "First, create a new dataframe schools1, which is equal to schools.\n",
    "\n",
    "As you see POSTCODE has a structure of (1234 AB). You should create a new variable PC4 that is equal to the first 4 numbers in POSTCODE\n",
    "\n",
    "Hint: Use the function `substr()`\n",
    "\n",
    "Then select the variables PC4 and DENOMINATIE"
   ]
  },
  {
   "cell_type": "code",
   "execution_count": 181,
   "metadata": {},
   "outputs": [
    {
     "data": {
      "text/html": [
       "<table>\n",
       "<thead><tr><th scope=col>PC4</th><th scope=col>DENOMINATIE</th></tr></thead>\n",
       "<tbody>\n",
       "\t<tr><td>                       </td><td>Openbaar               </td></tr>\n",
       "\t<tr><td>9406                   </td><td>Openbaar               </td></tr>\n",
       "\t<tr><td>9401                   </td><td>Openbaar               </td></tr>\n",
       "\t<tr><td>9402                   </td><td>Openbaar               </td></tr>\n",
       "\t<tr><td>9331                   </td><td>Openbaar               </td></tr>\n",
       "\t<tr><td>9411                   </td><td>Openbaar               </td></tr>\n",
       "\t<tr><td>9461                   </td><td>Openbaar               </td></tr>\n",
       "\t<tr><td>9402                   </td><td>Openbaar               </td></tr>\n",
       "\t<tr><td>9402                   </td><td>Openbaar               </td></tr>\n",
       "\t<tr><td>9403                   </td><td>Openbaar               </td></tr>\n",
       "\t<tr><td>9406                   </td><td>Openbaar               </td></tr>\n",
       "\t<tr><td>7905                   </td><td>Openbaar               </td></tr>\n",
       "\t<tr><td>7905                   </td><td>Openbaar               </td></tr>\n",
       "\t<tr><td>7905                   </td><td>Openbaar               </td></tr>\n",
       "\t<tr><td>7905                   </td><td>Openbaar               </td></tr>\n",
       "\t<tr><td>7905                   </td><td>Openbaar               </td></tr>\n",
       "\t<tr><td>9404                   </td><td>Algemeen bijzonder     </td></tr>\n",
       "\t<tr><td>9761                   </td><td>Algemeen bijzonder     </td></tr>\n",
       "\t<tr><td>7812                   </td><td>Algemeen bijzonder     </td></tr>\n",
       "\t<tr><td>7944                   </td><td>Algemeen bijzonder     </td></tr>\n",
       "\t<tr><td>7944                   </td><td>Algemeen bijzonder     </td></tr>\n",
       "\t<tr><td>7824                   </td><td>Rooms-Katholiek        </td></tr>\n",
       "\t<tr><td>9301                   </td><td>Algemeen bijzonder     </td></tr>\n",
       "\t<tr><td>9301                   </td><td>Algemeen bijzonder     </td></tr>\n",
       "\t<tr><td>7902                   </td><td>Protestants-Christelijk</td></tr>\n",
       "\t<tr><td>7903                   </td><td>Protestants-Christelijk</td></tr>\n",
       "\t<tr><td>7822                   </td><td>Protestants-Christelijk</td></tr>\n",
       "\t<tr><td>7825                   </td><td>Algemeen bijzonder     </td></tr>\n",
       "\t<tr><td>7943                   </td><td>Openbaar               </td></tr>\n",
       "\t<tr><td>7943                   </td><td>Openbaar               </td></tr>\n",
       "\t<tr><td>...</td><td>...</td></tr>\n",
       "\t<tr><td>2231                       </td><td>Protestants-Christelijk    </td></tr>\n",
       "\t<tr><td>2313                       </td><td>Rooms-Katholiek            </td></tr>\n",
       "\t<tr><td>2371                       </td><td>Rooms-Katholiek            </td></tr>\n",
       "\t<tr><td>2334                       </td><td>Rooms-Katholiek            </td></tr>\n",
       "\t<tr><td>2334                       </td><td>Rooms-Katholiek            </td></tr>\n",
       "\t<tr><td>4205                       </td><td>Protestants-Christelijk    </td></tr>\n",
       "\t<tr><td>3371                       </td><td>Protestants-Christelijk    </td></tr>\n",
       "\t<tr><td>4205                       </td><td>Protestants-Christelijk    </td></tr>\n",
       "\t<tr><td>4204                       </td><td>Protestants-Christelijk    </td></tr>\n",
       "\t<tr><td>4205                       </td><td>Protestants-Christelijk    </td></tr>\n",
       "\t<tr><td>4207                       </td><td>Protestants-Christelijk    </td></tr>\n",
       "\t<tr><td>4143                       </td><td>Protestants-Christelijk    </td></tr>\n",
       "\t<tr><td>4142                       </td><td>Protestants-Christelijk    </td></tr>\n",
       "\t<tr><td>3032                       </td><td>Algemeen bijzonder         </td></tr>\n",
       "\t<tr><td>3039                       </td><td>Algemeen bijzonder         </td></tr>\n",
       "\t<tr><td>2517                       </td><td>Protestants-Christelijk    </td></tr>\n",
       "\t<tr><td>2551                       </td><td>Protestants-Christelijk    </td></tr>\n",
       "\t<tr><td>3362                       </td><td>Samenwerking PC, Alg. Bijz.</td></tr>\n",
       "\t<tr><td>2241                       </td><td>Rooms-Katholiek            </td></tr>\n",
       "\t<tr><td>3055                       </td><td>Rooms-Katholiek            </td></tr>\n",
       "\t<tr><td>2401                       </td><td>Rooms-Katholiek            </td></tr>\n",
       "\t<tr><td>2421                       </td><td>Rooms-Katholiek            </td></tr>\n",
       "\t<tr><td>2585                       </td><td>Algemeen bijzonder         </td></tr>\n",
       "\t<tr><td>2725                       </td><td>Rooms-Katholiek            </td></tr>\n",
       "\t<tr><td>2614                       </td><td>Protestants-Christelijk    </td></tr>\n",
       "\t<tr><td>2625                       </td><td>Protestants-Christelijk    </td></tr>\n",
       "\t<tr><td>2625                       </td><td>Protestants-Christelijk    </td></tr>\n",
       "\t<tr><td>2597                       </td><td>Antroposofisch             </td></tr>\n",
       "\t<tr><td>3034                       </td><td>Antroposofisch             </td></tr>\n",
       "\t<tr><td>2315                       </td><td>Antroposofisch             </td></tr>\n",
       "</tbody>\n",
       "</table>\n"
      ],
      "text/latex": [
       "\\begin{tabular}{r|ll}\n",
       " PC4 & DENOMINATIE\\\\\n",
       "\\hline\n",
       "\t                         & Openbaar               \\\\\n",
       "\t 9406                    & Openbaar               \\\\\n",
       "\t 9401                    & Openbaar               \\\\\n",
       "\t 9402                    & Openbaar               \\\\\n",
       "\t 9331                    & Openbaar               \\\\\n",
       "\t 9411                    & Openbaar               \\\\\n",
       "\t 9461                    & Openbaar               \\\\\n",
       "\t 9402                    & Openbaar               \\\\\n",
       "\t 9402                    & Openbaar               \\\\\n",
       "\t 9403                    & Openbaar               \\\\\n",
       "\t 9406                    & Openbaar               \\\\\n",
       "\t 7905                    & Openbaar               \\\\\n",
       "\t 7905                    & Openbaar               \\\\\n",
       "\t 7905                    & Openbaar               \\\\\n",
       "\t 7905                    & Openbaar               \\\\\n",
       "\t 7905                    & Openbaar               \\\\\n",
       "\t 9404                    & Algemeen bijzonder     \\\\\n",
       "\t 9761                    & Algemeen bijzonder     \\\\\n",
       "\t 7812                    & Algemeen bijzonder     \\\\\n",
       "\t 7944                    & Algemeen bijzonder     \\\\\n",
       "\t 7944                    & Algemeen bijzonder     \\\\\n",
       "\t 7824                    & Rooms-Katholiek        \\\\\n",
       "\t 9301                    & Algemeen bijzonder     \\\\\n",
       "\t 9301                    & Algemeen bijzonder     \\\\\n",
       "\t 7902                    & Protestants-Christelijk\\\\\n",
       "\t 7903                    & Protestants-Christelijk\\\\\n",
       "\t 7822                    & Protestants-Christelijk\\\\\n",
       "\t 7825                    & Algemeen bijzonder     \\\\\n",
       "\t 7943                    & Openbaar               \\\\\n",
       "\t 7943                    & Openbaar               \\\\\n",
       "\t ... & ...\\\\\n",
       "\t 2231                        & Protestants-Christelijk    \\\\\n",
       "\t 2313                        & Rooms-Katholiek            \\\\\n",
       "\t 2371                        & Rooms-Katholiek            \\\\\n",
       "\t 2334                        & Rooms-Katholiek            \\\\\n",
       "\t 2334                        & Rooms-Katholiek            \\\\\n",
       "\t 4205                        & Protestants-Christelijk    \\\\\n",
       "\t 3371                        & Protestants-Christelijk    \\\\\n",
       "\t 4205                        & Protestants-Christelijk    \\\\\n",
       "\t 4204                        & Protestants-Christelijk    \\\\\n",
       "\t 4205                        & Protestants-Christelijk    \\\\\n",
       "\t 4207                        & Protestants-Christelijk    \\\\\n",
       "\t 4143                        & Protestants-Christelijk    \\\\\n",
       "\t 4142                        & Protestants-Christelijk    \\\\\n",
       "\t 3032                        & Algemeen bijzonder         \\\\\n",
       "\t 3039                        & Algemeen bijzonder         \\\\\n",
       "\t 2517                        & Protestants-Christelijk    \\\\\n",
       "\t 2551                        & Protestants-Christelijk    \\\\\n",
       "\t 3362                        & Samenwerking PC, Alg. Bijz.\\\\\n",
       "\t 2241                        & Rooms-Katholiek            \\\\\n",
       "\t 3055                        & Rooms-Katholiek            \\\\\n",
       "\t 2401                        & Rooms-Katholiek            \\\\\n",
       "\t 2421                        & Rooms-Katholiek            \\\\\n",
       "\t 2585                        & Algemeen bijzonder         \\\\\n",
       "\t 2725                        & Rooms-Katholiek            \\\\\n",
       "\t 2614                        & Protestants-Christelijk    \\\\\n",
       "\t 2625                        & Protestants-Christelijk    \\\\\n",
       "\t 2625                        & Protestants-Christelijk    \\\\\n",
       "\t 2597                        & Antroposofisch             \\\\\n",
       "\t 3034                        & Antroposofisch             \\\\\n",
       "\t 2315                        & Antroposofisch             \\\\\n",
       "\\end{tabular}\n"
      ],
      "text/markdown": [
       "\n",
       "PC4 | DENOMINATIE | \n",
       "|---|---|---|---|---|---|---|---|---|---|---|---|---|---|---|---|---|---|---|---|---|---|---|---|---|---|---|---|---|---|---|---|---|---|---|---|---|---|---|---|---|---|---|---|---|---|---|---|---|---|---|---|---|---|---|---|---|---|---|---|---|\n",
       "|                         | Openbaar                | \n",
       "| 9406                    | Openbaar                | \n",
       "| 9401                    | Openbaar                | \n",
       "| 9402                    | Openbaar                | \n",
       "| 9331                    | Openbaar                | \n",
       "| 9411                    | Openbaar                | \n",
       "| 9461                    | Openbaar                | \n",
       "| 9402                    | Openbaar                | \n",
       "| 9402                    | Openbaar                | \n",
       "| 9403                    | Openbaar                | \n",
       "| 9406                    | Openbaar                | \n",
       "| 7905                    | Openbaar                | \n",
       "| 7905                    | Openbaar                | \n",
       "| 7905                    | Openbaar                | \n",
       "| 7905                    | Openbaar                | \n",
       "| 7905                    | Openbaar                | \n",
       "| 9404                    | Algemeen bijzonder      | \n",
       "| 9761                    | Algemeen bijzonder      | \n",
       "| 7812                    | Algemeen bijzonder      | \n",
       "| 7944                    | Algemeen bijzonder      | \n",
       "| 7944                    | Algemeen bijzonder      | \n",
       "| 7824                    | Rooms-Katholiek         | \n",
       "| 9301                    | Algemeen bijzonder      | \n",
       "| 9301                    | Algemeen bijzonder      | \n",
       "| 7902                    | Protestants-Christelijk | \n",
       "| 7903                    | Protestants-Christelijk | \n",
       "| 7822                    | Protestants-Christelijk | \n",
       "| 7825                    | Algemeen bijzonder      | \n",
       "| 7943                    | Openbaar                | \n",
       "| 7943                    | Openbaar                | \n",
       "| ... | ... | \n",
       "| 2231                        | Protestants-Christelijk     | \n",
       "| 2313                        | Rooms-Katholiek             | \n",
       "| 2371                        | Rooms-Katholiek             | \n",
       "| 2334                        | Rooms-Katholiek             | \n",
       "| 2334                        | Rooms-Katholiek             | \n",
       "| 4205                        | Protestants-Christelijk     | \n",
       "| 3371                        | Protestants-Christelijk     | \n",
       "| 4205                        | Protestants-Christelijk     | \n",
       "| 4204                        | Protestants-Christelijk     | \n",
       "| 4205                        | Protestants-Christelijk     | \n",
       "| 4207                        | Protestants-Christelijk     | \n",
       "| 4143                        | Protestants-Christelijk     | \n",
       "| 4142                        | Protestants-Christelijk     | \n",
       "| 3032                        | Algemeen bijzonder          | \n",
       "| 3039                        | Algemeen bijzonder          | \n",
       "| 2517                        | Protestants-Christelijk     | \n",
       "| 2551                        | Protestants-Christelijk     | \n",
       "| 3362                        | Samenwerking PC, Alg. Bijz. | \n",
       "| 2241                        | Rooms-Katholiek             | \n",
       "| 3055                        | Rooms-Katholiek             | \n",
       "| 2401                        | Rooms-Katholiek             | \n",
       "| 2421                        | Rooms-Katholiek             | \n",
       "| 2585                        | Algemeen bijzonder          | \n",
       "| 2725                        | Rooms-Katholiek             | \n",
       "| 2614                        | Protestants-Christelijk     | \n",
       "| 2625                        | Protestants-Christelijk     | \n",
       "| 2625                        | Protestants-Christelijk     | \n",
       "| 2597                        | Antroposofisch              | \n",
       "| 3034                        | Antroposofisch              | \n",
       "| 2315                        | Antroposofisch              | \n",
       "\n",
       "\n"
      ],
      "text/plain": [
       "     PC4  DENOMINATIE                \n",
       "1         Openbaar                   \n",
       "2    9406 Openbaar                   \n",
       "3    9401 Openbaar                   \n",
       "4    9402 Openbaar                   \n",
       "5    9331 Openbaar                   \n",
       "6    9411 Openbaar                   \n",
       "7    9461 Openbaar                   \n",
       "8    9402 Openbaar                   \n",
       "9    9402 Openbaar                   \n",
       "10   9403 Openbaar                   \n",
       "11   9406 Openbaar                   \n",
       "12   7905 Openbaar                   \n",
       "13   7905 Openbaar                   \n",
       "14   7905 Openbaar                   \n",
       "15   7905 Openbaar                   \n",
       "16   7905 Openbaar                   \n",
       "17   9404 Algemeen bijzonder         \n",
       "18   9761 Algemeen bijzonder         \n",
       "19   7812 Algemeen bijzonder         \n",
       "20   7944 Algemeen bijzonder         \n",
       "21   7944 Algemeen bijzonder         \n",
       "22   7824 Rooms-Katholiek            \n",
       "23   9301 Algemeen bijzonder         \n",
       "24   9301 Algemeen bijzonder         \n",
       "25   7902 Protestants-Christelijk    \n",
       "26   7903 Protestants-Christelijk    \n",
       "27   7822 Protestants-Christelijk    \n",
       "28   7825 Algemeen bijzonder         \n",
       "29   7943 Openbaar                   \n",
       "30   7943 Openbaar                   \n",
       "...  ...  ...                        \n",
       "1574 2231 Protestants-Christelijk    \n",
       "1575 2313 Rooms-Katholiek            \n",
       "1576 2371 Rooms-Katholiek            \n",
       "1577 2334 Rooms-Katholiek            \n",
       "1578 2334 Rooms-Katholiek            \n",
       "1579 4205 Protestants-Christelijk    \n",
       "1580 3371 Protestants-Christelijk    \n",
       "1581 4205 Protestants-Christelijk    \n",
       "1582 4204 Protestants-Christelijk    \n",
       "1583 4205 Protestants-Christelijk    \n",
       "1584 4207 Protestants-Christelijk    \n",
       "1585 4143 Protestants-Christelijk    \n",
       "1586 4142 Protestants-Christelijk    \n",
       "1587 3032 Algemeen bijzonder         \n",
       "1588 3039 Algemeen bijzonder         \n",
       "1589 2517 Protestants-Christelijk    \n",
       "1590 2551 Protestants-Christelijk    \n",
       "1591 3362 Samenwerking PC, Alg. Bijz.\n",
       "1592 2241 Rooms-Katholiek            \n",
       "1593 3055 Rooms-Katholiek            \n",
       "1594 2401 Rooms-Katholiek            \n",
       "1595 2421 Rooms-Katholiek            \n",
       "1596 2585 Algemeen bijzonder         \n",
       "1597 2725 Rooms-Katholiek            \n",
       "1598 2614 Protestants-Christelijk    \n",
       "1599 2625 Protestants-Christelijk    \n",
       "1600 2625 Protestants-Christelijk    \n",
       "1601 2597 Antroposofisch             \n",
       "1602 3034 Antroposofisch             \n",
       "1603 2315 Antroposofisch             "
      ]
     },
     "metadata": {},
     "output_type": "display_data"
    }
   ],
   "source": [
    "schools1 <- schools %>% \n",
    "    mutate(PC4 = substr(POSTCODE,1,4))\n",
    "select(schools1, \"PC4\", \"DENOMINATIE\")\n",
    "#We mutated the \"schools\" data frame to create a new one: schools1. This one contains the first four numbers of the postal code \n",
    "#by defining the new PC4 column by using a substr function as mentioned in the excersize.  "
   ]
  },
  {
   "cell_type": "markdown",
   "metadata": {},
   "source": [
    "### 2diii\n",
    "\n",
    "Create the dataframe school_loc as a join from pc4_locations and school1 that combines the columns from both data frames, but only keeps rows where the value in the pc4_locations column matches in both data frames.\n",
    "And then select the observations with DENOMINATIE is equal to \"Rooms-Katholiek\" or \"Protestants-Christelijk\""
   ]
  },
  {
   "cell_type": "code",
   "execution_count": 263,
   "metadata": {},
   "outputs": [
    {
     "data": {
      "text/html": [
       "<table>\n",
       "<thead><tr><th scope=col>PC4</th><th scope=col>PROVINCIE</th><th scope=col>BEVOEGD.GEZAG.NUMMER</th><th scope=col>BRIN.NUMMER</th><th scope=col>VESTIGINGSNUMMER</th><th scope=col>VESTIGINGSNAAM</th><th scope=col>STRAATNAAM</th><th scope=col>HUISNUMMER.TOEVOEGING</th><th scope=col>POSTCODE</th><th scope=col>PLAATSNAAM</th><th scope=col>...</th><th scope=col>WGR.GEBIED.CODE</th><th scope=col>WGR.GEBIED.NAAM</th><th scope=col>COROPGEBIED.CODE</th><th scope=col>COROPGEBIED.NAAM</th><th scope=col>ONDERWIJSGEBIED.CODE</th><th scope=col>ONDERWIJSGEBIED.NAAM</th><th scope=col>RMC.REGIO.CODE</th><th scope=col>RMC.REGIO.NAAM</th><th scope=col>X</th><th scope=col>Y</th></tr></thead>\n",
       "<tbody>\n",
       "\t<tr><td>1013                                                              </td><td>Noord-Holland                                                     </td><td>42621                                                             </td><td>21ET                                                              </td><td>21ET12                                                            </td><td>Scholengemeenschap Amsterdam-Zuid voor Atheneum Havo Mavo Vbo Lwoo</td><td>Haarlemmerstraat                                                  </td><td>132-136                                                           </td><td>1013 EX                                                           </td><td>AMSTERDAM                                                         </td><td>...                                                               </td><td>21                                                                </td><td>Agglomeratie Amsterdam                                            </td><td>23                                                                </td><td>Groot-Amsterdam                                                   </td><td>15                                                                </td><td>Zuid-Noord-Holland                                                </td><td>21                                                                </td><td>Agglomeratie Amsterdam                                            </td><td>120324.504123209                                                  </td><td>489671.682341738                                                  </td></tr>\n",
       "\t<tr><td>1013                                                              </td><td>Noord-Holland                                                     </td><td>40586                                                             </td><td>30GC                                                              </td><td>30GC00                                                            </td><td>Het 4e Gymnasium                                                  </td><td>Archangelweg                                                      </td><td>4                                                                 </td><td>1013 ZZ                                                           </td><td>AMSTERDAM                                                         </td><td>...                                                               </td><td>21                                                                </td><td>Agglomeratie Amsterdam                                            </td><td>23                                                                </td><td>Groot-Amsterdam                                                   </td><td>15                                                                </td><td>Zuid-Noord-Holland                                                </td><td>21                                                                </td><td>Agglomeratie Amsterdam                                            </td><td>120324.504123209                                                  </td><td>489671.682341738                                                  </td></tr>\n",
       "\t<tr><td>1014                                                              </td><td>Noord-Holland                                                     </td><td>42621                                                             </td><td>17HB                                                              </td><td>17HB07                                                            </td><td>Scholengemeenschap ZAAM West voorVwo Havo Mavo Vbo Lwoo           </td><td>Zekeringstraat                                                    </td><td>38-+40                                                            </td><td>1014 BT                                                           </td><td>AMSTERDAM                                                         </td><td>...                                                               </td><td>21                                                                </td><td>Agglomeratie Amsterdam                                            </td><td>23                                                                </td><td>Groot-Amsterdam                                                   </td><td>15                                                                </td><td>Zuid-Noord-Holland                                                </td><td>21                                                                </td><td>Agglomeratie Amsterdam                                            </td><td>119515.029078042                                                  </td><td>489421.741526331                                                  </td></tr>\n",
       "\t<tr><td>1014                                                              </td><td>Noord-Holland                                                     </td><td>67107                                                             </td><td>02PA                                                              </td><td>02PA00                                                            </td><td>Stichting Media Amsterdam                                         </td><td>Contactweg                                                        </td><td>36                                                                </td><td>1014 AN                                                           </td><td>AMSTERDAM                                                         </td><td>...                                                               </td><td>21                                                                </td><td>Agglomeratie Amsterdam                                            </td><td>23                                                                </td><td>Groot-Amsterdam                                                   </td><td>15                                                                </td><td>Zuid-Noord-Holland                                                </td><td>21                                                                </td><td>Agglomeratie Amsterdam                                            </td><td>119515.029078042                                                  </td><td>489421.741526331                                                  </td></tr>\n",
       "\t<tr><td>1016                                                              </td><td>Noord-Holland                                                     </td><td>40586                                                             </td><td>17YS                                                              </td><td>17YS21                                                            </td><td>Esprit Scholen voor Lyceum Havo Mavo Vbo Lwoo                     </td><td>Tweede Passeerdersdwstr                                           </td><td>9                                                                 </td><td>1016 XE                                                           </td><td>AMSTERDAM                                                         </td><td>...                                                               </td><td>21                                                                </td><td>Agglomeratie Amsterdam                                            </td><td>23                                                                </td><td>Groot-Amsterdam                                                   </td><td>15                                                                </td><td>Zuid-Noord-Holland                                                </td><td>21                                                                </td><td>Agglomeratie Amsterdam                                            </td><td>120537.758537905                                                  </td><td>487075.388236409                                                  </td></tr>\n",
       "\t<tr><td>1017                                                              </td><td>Noord-Holland                                                     </td><td>13556                                                             </td><td>21AB                                                              </td><td>21AB00                                                            </td><td>Barlaeus Gymnasium                                                </td><td>Weteringschans                                                    </td><td>31                                                                </td><td>1017 RV                                                           </td><td>AMSTERDAM                                                         </td><td>...                                                               </td><td>21                                                                </td><td>Agglomeratie Amsterdam                                            </td><td>23                                                                </td><td>Groot-Amsterdam                                                   </td><td>15                                                                </td><td>Zuid-Noord-Holland                                                </td><td>21                                                                </td><td>Agglomeratie Amsterdam                                            </td><td>121225.666243389                                                  </td><td>486219.900904655                                                  </td></tr>\n",
       "</tbody>\n",
       "</table>\n"
      ],
      "text/latex": [
       "\\begin{tabular}{r|llllllllllllllllllllllllllllllllll}\n",
       " PC4 & PROVINCIE & BEVOEGD.GEZAG.NUMMER & BRIN.NUMMER & VESTIGINGSNUMMER & VESTIGINGSNAAM & STRAATNAAM & HUISNUMMER.TOEVOEGING & POSTCODE & PLAATSNAAM & ... & WGR.GEBIED.CODE & WGR.GEBIED.NAAM & COROPGEBIED.CODE & COROPGEBIED.NAAM & ONDERWIJSGEBIED.CODE & ONDERWIJSGEBIED.NAAM & RMC.REGIO.CODE & RMC.REGIO.NAAM & X & Y\\\\\n",
       "\\hline\n",
       "\t 1013                                                               & Noord-Holland                                                      & 42621                                                              & 21ET                                                               & 21ET12                                                             & Scholengemeenschap Amsterdam-Zuid voor Atheneum Havo Mavo Vbo Lwoo & Haarlemmerstraat                                                   & 132-136                                                            & 1013 EX                                                            & AMSTERDAM                                                          & ...                                                                & 21                                                                 & Agglomeratie Amsterdam                                             & 23                                                                 & Groot-Amsterdam                                                    & 15                                                                 & Zuid-Noord-Holland                                                 & 21                                                                 & Agglomeratie Amsterdam                                             & 120324.504123209                                                   & 489671.682341738                                                  \\\\\n",
       "\t 1013                                                               & Noord-Holland                                                      & 40586                                                              & 30GC                                                               & 30GC00                                                             & Het 4e Gymnasium                                                   & Archangelweg                                                       & 4                                                                  & 1013 ZZ                                                            & AMSTERDAM                                                          & ...                                                                & 21                                                                 & Agglomeratie Amsterdam                                             & 23                                                                 & Groot-Amsterdam                                                    & 15                                                                 & Zuid-Noord-Holland                                                 & 21                                                                 & Agglomeratie Amsterdam                                             & 120324.504123209                                                   & 489671.682341738                                                  \\\\\n",
       "\t 1014                                                               & Noord-Holland                                                      & 42621                                                              & 17HB                                                               & 17HB07                                                             & Scholengemeenschap ZAAM West voorVwo Havo Mavo Vbo Lwoo            & Zekeringstraat                                                     & 38-+40                                                             & 1014 BT                                                            & AMSTERDAM                                                          & ...                                                                & 21                                                                 & Agglomeratie Amsterdam                                             & 23                                                                 & Groot-Amsterdam                                                    & 15                                                                 & Zuid-Noord-Holland                                                 & 21                                                                 & Agglomeratie Amsterdam                                             & 119515.029078042                                                   & 489421.741526331                                                  \\\\\n",
       "\t 1014                                                               & Noord-Holland                                                      & 67107                                                              & 02PA                                                               & 02PA00                                                             & Stichting Media Amsterdam                                          & Contactweg                                                         & 36                                                                 & 1014 AN                                                            & AMSTERDAM                                                          & ...                                                                & 21                                                                 & Agglomeratie Amsterdam                                             & 23                                                                 & Groot-Amsterdam                                                    & 15                                                                 & Zuid-Noord-Holland                                                 & 21                                                                 & Agglomeratie Amsterdam                                             & 119515.029078042                                                   & 489421.741526331                                                  \\\\\n",
       "\t 1016                                                               & Noord-Holland                                                      & 40586                                                              & 17YS                                                               & 17YS21                                                             & Esprit Scholen voor Lyceum Havo Mavo Vbo Lwoo                      & Tweede Passeerdersdwstr                                            & 9                                                                  & 1016 XE                                                            & AMSTERDAM                                                          & ...                                                                & 21                                                                 & Agglomeratie Amsterdam                                             & 23                                                                 & Groot-Amsterdam                                                    & 15                                                                 & Zuid-Noord-Holland                                                 & 21                                                                 & Agglomeratie Amsterdam                                             & 120537.758537905                                                   & 487075.388236409                                                  \\\\\n",
       "\t 1017                                                               & Noord-Holland                                                      & 13556                                                              & 21AB                                                               & 21AB00                                                             & Barlaeus Gymnasium                                                 & Weteringschans                                                     & 31                                                                 & 1017 RV                                                            & AMSTERDAM                                                          & ...                                                                & 21                                                                 & Agglomeratie Amsterdam                                             & 23                                                                 & Groot-Amsterdam                                                    & 15                                                                 & Zuid-Noord-Holland                                                 & 21                                                                 & Agglomeratie Amsterdam                                             & 121225.666243389                                                   & 486219.900904655                                                  \\\\\n",
       "\\end{tabular}\n"
      ],
      "text/markdown": [
       "\n",
       "PC4 | PROVINCIE | BEVOEGD.GEZAG.NUMMER | BRIN.NUMMER | VESTIGINGSNUMMER | VESTIGINGSNAAM | STRAATNAAM | HUISNUMMER.TOEVOEGING | POSTCODE | PLAATSNAAM | ... | WGR.GEBIED.CODE | WGR.GEBIED.NAAM | COROPGEBIED.CODE | COROPGEBIED.NAAM | ONDERWIJSGEBIED.CODE | ONDERWIJSGEBIED.NAAM | RMC.REGIO.CODE | RMC.REGIO.NAAM | X | Y | \n",
       "|---|---|---|---|---|---|\n",
       "| 1013                                                               | Noord-Holland                                                      | 42621                                                              | 21ET                                                               | 21ET12                                                             | Scholengemeenschap Amsterdam-Zuid voor Atheneum Havo Mavo Vbo Lwoo | Haarlemmerstraat                                                   | 132-136                                                            | 1013 EX                                                            | AMSTERDAM                                                          | ...                                                                | 21                                                                 | Agglomeratie Amsterdam                                             | 23                                                                 | Groot-Amsterdam                                                    | 15                                                                 | Zuid-Noord-Holland                                                 | 21                                                                 | Agglomeratie Amsterdam                                             | 120324.504123209                                                   | 489671.682341738                                                   | \n",
       "| 1013                                                               | Noord-Holland                                                      | 40586                                                              | 30GC                                                               | 30GC00                                                             | Het 4e Gymnasium                                                   | Archangelweg                                                       | 4                                                                  | 1013 ZZ                                                            | AMSTERDAM                                                          | ...                                                                | 21                                                                 | Agglomeratie Amsterdam                                             | 23                                                                 | Groot-Amsterdam                                                    | 15                                                                 | Zuid-Noord-Holland                                                 | 21                                                                 | Agglomeratie Amsterdam                                             | 120324.504123209                                                   | 489671.682341738                                                   | \n",
       "| 1014                                                               | Noord-Holland                                                      | 42621                                                              | 17HB                                                               | 17HB07                                                             | Scholengemeenschap ZAAM West voorVwo Havo Mavo Vbo Lwoo            | Zekeringstraat                                                     | 38-+40                                                             | 1014 BT                                                            | AMSTERDAM                                                          | ...                                                                | 21                                                                 | Agglomeratie Amsterdam                                             | 23                                                                 | Groot-Amsterdam                                                    | 15                                                                 | Zuid-Noord-Holland                                                 | 21                                                                 | Agglomeratie Amsterdam                                             | 119515.029078042                                                   | 489421.741526331                                                   | \n",
       "| 1014                                                               | Noord-Holland                                                      | 67107                                                              | 02PA                                                               | 02PA00                                                             | Stichting Media Amsterdam                                          | Contactweg                                                         | 36                                                                 | 1014 AN                                                            | AMSTERDAM                                                          | ...                                                                | 21                                                                 | Agglomeratie Amsterdam                                             | 23                                                                 | Groot-Amsterdam                                                    | 15                                                                 | Zuid-Noord-Holland                                                 | 21                                                                 | Agglomeratie Amsterdam                                             | 119515.029078042                                                   | 489421.741526331                                                   | \n",
       "| 1016                                                               | Noord-Holland                                                      | 40586                                                              | 17YS                                                               | 17YS21                                                             | Esprit Scholen voor Lyceum Havo Mavo Vbo Lwoo                      | Tweede Passeerdersdwstr                                            | 9                                                                  | 1016 XE                                                            | AMSTERDAM                                                          | ...                                                                | 21                                                                 | Agglomeratie Amsterdam                                             | 23                                                                 | Groot-Amsterdam                                                    | 15                                                                 | Zuid-Noord-Holland                                                 | 21                                                                 | Agglomeratie Amsterdam                                             | 120537.758537905                                                   | 487075.388236409                                                   | \n",
       "| 1017                                                               | Noord-Holland                                                      | 13556                                                              | 21AB                                                               | 21AB00                                                             | Barlaeus Gymnasium                                                 | Weteringschans                                                     | 31                                                                 | 1017 RV                                                            | AMSTERDAM                                                          | ...                                                                | 21                                                                 | Agglomeratie Amsterdam                                             | 23                                                                 | Groot-Amsterdam                                                    | 15                                                                 | Zuid-Noord-Holland                                                 | 21                                                                 | Agglomeratie Amsterdam                                             | 121225.666243389                                                   | 486219.900904655                                                   | \n",
       "\n",
       "\n"
      ],
      "text/plain": [
       "  PC4  PROVINCIE     BEVOEGD.GEZAG.NUMMER BRIN.NUMMER VESTIGINGSNUMMER\n",
       "1 1013 Noord-Holland 42621                21ET        21ET12          \n",
       "2 1013 Noord-Holland 40586                30GC        30GC00          \n",
       "3 1014 Noord-Holland 42621                17HB        17HB07          \n",
       "4 1014 Noord-Holland 67107                02PA        02PA00          \n",
       "5 1016 Noord-Holland 40586                17YS        17YS21          \n",
       "6 1017 Noord-Holland 13556                21AB        21AB00          \n",
       "  VESTIGINGSNAAM                                                    \n",
       "1 Scholengemeenschap Amsterdam-Zuid voor Atheneum Havo Mavo Vbo Lwoo\n",
       "2 Het 4e Gymnasium                                                  \n",
       "3 Scholengemeenschap ZAAM West voorVwo Havo Mavo Vbo Lwoo           \n",
       "4 Stichting Media Amsterdam                                         \n",
       "5 Esprit Scholen voor Lyceum Havo Mavo Vbo Lwoo                     \n",
       "6 Barlaeus Gymnasium                                                \n",
       "  STRAATNAAM              HUISNUMMER.TOEVOEGING POSTCODE PLAATSNAAM ...\n",
       "1 Haarlemmerstraat        132-136               1013 EX  AMSTERDAM  ...\n",
       "2 Archangelweg            4                     1013 ZZ  AMSTERDAM  ...\n",
       "3 Zekeringstraat          38-+40                1014 BT  AMSTERDAM  ...\n",
       "4 Contactweg              36                    1014 AN  AMSTERDAM  ...\n",
       "5 Tweede Passeerdersdwstr 9                     1016 XE  AMSTERDAM  ...\n",
       "6 Weteringschans          31                    1017 RV  AMSTERDAM  ...\n",
       "  WGR.GEBIED.CODE WGR.GEBIED.NAAM        COROPGEBIED.CODE COROPGEBIED.NAAM\n",
       "1 21              Agglomeratie Amsterdam 23               Groot-Amsterdam \n",
       "2 21              Agglomeratie Amsterdam 23               Groot-Amsterdam \n",
       "3 21              Agglomeratie Amsterdam 23               Groot-Amsterdam \n",
       "4 21              Agglomeratie Amsterdam 23               Groot-Amsterdam \n",
       "5 21              Agglomeratie Amsterdam 23               Groot-Amsterdam \n",
       "6 21              Agglomeratie Amsterdam 23               Groot-Amsterdam \n",
       "  ONDERWIJSGEBIED.CODE ONDERWIJSGEBIED.NAAM RMC.REGIO.CODE\n",
       "1 15                   Zuid-Noord-Holland   21            \n",
       "2 15                   Zuid-Noord-Holland   21            \n",
       "3 15                   Zuid-Noord-Holland   21            \n",
       "4 15                   Zuid-Noord-Holland   21            \n",
       "5 15                   Zuid-Noord-Holland   21            \n",
       "6 15                   Zuid-Noord-Holland   21            \n",
       "  RMC.REGIO.NAAM         X                Y               \n",
       "1 Agglomeratie Amsterdam 120324.504123209 489671.682341738\n",
       "2 Agglomeratie Amsterdam 120324.504123209 489671.682341738\n",
       "3 Agglomeratie Amsterdam 119515.029078042 489421.741526331\n",
       "4 Agglomeratie Amsterdam 119515.029078042 489421.741526331\n",
       "5 Agglomeratie Amsterdam 120537.758537905 487075.388236409\n",
       "6 Agglomeratie Amsterdam 121225.666243389 486219.900904655"
      ]
     },
     "metadata": {},
     "output_type": "display_data"
    }
   ],
   "source": [
    "school_loc <- merge(schools1, pc4_locations, by = c(\"PC4\"), x.all = TRUE)\n",
    "head(school_loc)\n",
    "#by merging the two dataframes(schools1 and pc4_locations that was given) and selecting it by the PC4 column. The rows\n",
    "#that remain are the ones that we want"
   ]
  },
  {
   "cell_type": "code",
   "execution_count": 259,
   "metadata": {},
   "outputs": [
    {
     "data": {
      "text/html": [
       "<table>\n",
       "<thead><tr><th></th><th scope=col>PC4</th><th scope=col>PROVINCIE</th><th scope=col>BEVOEGD.GEZAG.NUMMER</th><th scope=col>BRIN.NUMMER</th><th scope=col>VESTIGINGSNUMMER</th><th scope=col>VESTIGINGSNAAM</th><th scope=col>STRAATNAAM</th><th scope=col>HUISNUMMER.TOEVOEGING</th><th scope=col>POSTCODE</th><th scope=col>PLAATSNAAM</th><th scope=col>GEMEENTENUMMER</th><th scope=col>GEMEENTENAAM</th><th scope=col>DENOMINATIE</th><th scope=col>TELEFOONNUMMER</th><th scope=col>INTERNETADRES</th></tr></thead>\n",
       "<tbody>\n",
       "\t<tr><th scope=row>29</th><td>1065                                                                            </td><td>Noord-Holland                                                                   </td><td>41217                                                                           </td><td>01TC                                                                            </td><td>01TC00                                                                          </td><td>Scholengemeenschap voor Vwo Havo Mavo Het Hervormd Lyceum                       </td><td>Hemsterhuisstraat                                                               </td><td>79                                                                              </td><td>1065 JX                                                                         </td><td>AMSTERDAM                                                                       </td><td>363                                                                             </td><td>AMSTERDAM                                                                       </td><td>Protestants-Christelijk                                                         </td><td>206152780                                                                       </td><td>www.hlw.nl                                                                      </td></tr>\n",
       "\t<tr><th scope=row>38</th><td>1071                                                                            </td><td>Noord-Holland                                                                   </td><td>40776                                                                           </td><td>02AN                                                                            </td><td>02AN00                                                                          </td><td>Fons Vitae Lyceum Rooms Katholiek Scholengemeenschap voor Vwo en Havo           </td><td>Reijnier Vinkeleskade                                                           </td><td>53                                                                              </td><td>1071 SW                                                                         </td><td>AMSTERDAM                                                                       </td><td>363                                                                             </td><td>AMSTERDAM                                                                       </td><td>Rooms-Katholiek                                                                 </td><td>206625274                                                                       </td><td>www.fonsvitae.nl                                                                </td></tr>\n",
       "\t<tr><th scope=row>50</th><td>1077                                                                            </td><td>Noord-Holland                                                                   </td><td>41217                                                                           </td><td>02AR                                                                            </td><td>02AR00                                                                          </td><td>Scholengemeenschap voor Athenum en Havo Het Hervormd Lyceum Zuid                </td><td>Brahmsstraat                                                                    </td><td>7                                                                               </td><td>1077 HE                                                                         </td><td>AMSTERDAM                                                                       </td><td>363                                                                             </td><td>AMSTERDAM                                                                       </td><td>Protestants-Christelijk                                                         </td><td>206627983                                                                       </td><td>www.hlz.nl                                                                      </td></tr>\n",
       "\t<tr><th scope=row>51</th><td>1077                                                                            </td><td>Noord-Holland                                                                   </td><td>40776                                                                           </td><td>14SE                                                                            </td><td>14SE00                                                                          </td><td>Scholengemeenschap Sint Nicolaas Lyceum voor Lyceum en Havo                     </td><td>Beethovenplein                                                                  </td><td>2                                                                               </td><td>1077 WM                                                                         </td><td>AMSTERDAM                                                                       </td><td>363                                                                             </td><td>AMSTERDAM                                                                       </td><td>Rooms-Katholiek                                                                 </td><td>206445151                                                                       </td><td>www.nicolaas.nl                                                                 </td></tr>\n",
       "\t<tr><th scope=row>57</th><td>1081                                                                            </td><td>Noord-Holland                                                                   </td><td>41217                                                                           </td><td>14VY                                                                            </td><td>14VY00                                                                          </td><td>Chr Sgm Buitenveldert v Gymn Ath Havo en Mavo                                   </td><td>De Cuserstraat                                                                  </td><td>3                                                                               </td><td>1081 CK                                                                         </td><td>AMSTERDAM                                                                       </td><td>363                                                                             </td><td>AMSTERDAM                                                                       </td><td>Protestants-Christelijk                                                         </td><td>206423902                                                                       </td><td>www.csb-amsterdam.nl                                                            </td></tr>\n",
       "\t<tr><th scope=row>80</th><td>1132                                                                            </td><td>Noord-Holland                                                                   </td><td>72853                                                                           </td><td>20GS                                                                            </td><td>20GS00                                                                          </td><td>Don Bosco College Atheneum Havo Vmbo Lwoo                                       </td><td>Heideweg                                                                        </td><td>2                                                                               </td><td>1132 DB                                                                         </td><td>VOLENDAM                                                                        </td><td>385                                                                             </td><td>EDAM-VOLENDAM                                                                   </td><td>Rooms-Katholiek                                                                 </td><td>299399299                                                                       </td><td>www.donboscocollege.com                                                         </td></tr>\n",
       "\t<tr><th scope=row>81</th><td>1132                                                                            </td><td>Noord-Holland                                                                   </td><td>72853                                                                           </td><td>20GS                                                                            </td><td>20GS01                                                                          </td><td>Don Bosco College Atheneum Havo Vmbo Lwoo                                       </td><td>Val van Urk                                                                     </td><td>1                                                                               </td><td>1132 BH                                                                         </td><td>VOLENDAM                                                                        </td><td>385                                                                             </td><td>EDAM-VOLENDAM                                                                   </td><td>Rooms-Katholiek                                                                 </td><td>       NA                                                                       </td><td>                                                                                </td></tr>\n",
       "\t<tr><th scope=row>86</th><td>1185                                                                            </td><td>Noord-Holland                                                                   </td><td>41217                                                                           </td><td>02TE                                                                            </td><td>02TE00                                                                          </td><td>H Wesselink College Christelijke Scholengemeenschap voor Vwo Havo Mavo          </td><td>Startbaan                                                                       </td><td>3                                                                               </td><td>1185 XP                                                                         </td><td>AMSTELVEEN                                                                      </td><td>362                                                                             </td><td>AMSTELVEEN                                                                      </td><td>Protestants-Christelijk                                                         </td><td>206459751                                                                       </td><td>www.hermannwesselinkcollege.nl/                                                 </td></tr>\n",
       "\t<tr><th scope=row>87</th><td>1185                                                                            </td><td>Noord-Holland                                                                   </td><td>71553                                                                           </td><td>02QZ                                                                            </td><td>02QZ00                                                                          </td><td>Keizer Karel College Vwo Havo                                                   </td><td>Elegast                                                                         </td><td>5                                                                               </td><td>1185 AA                                                                         </td><td>AMSTELVEEN                                                                      </td><td>362                                                                             </td><td>AMSTELVEEN                                                                      </td><td>Rooms-Katholiek                                                                 </td><td>206415700                                                                       </td><td>www.keizerkarelcollege.nl/                                                      </td></tr>\n",
       "\t<tr><th scope=row>88</th><td>1211                                                                            </td><td>Noord-Holland                                                                   </td><td>40676                                                                           </td><td>00PS                                                                            </td><td>00PS05                                                                          </td><td>Verenigde Scholen J.A. Alberdingk Thijm VO. Locatie: St. Aloysius College       </td><td>Schapenkamp                                                                     </td><td>200                                                                             </td><td>1211 PB                                                                         </td><td>HILVERSUM                                                                       </td><td>402                                                                             </td><td>HILVERSUM                                                                       </td><td>Rooms-Katholiek                                                                 </td><td>356247481                                                                       </td><td>www.atscholen.nl                                                                </td></tr>\n",
       "</tbody>\n",
       "</table>\n"
      ],
      "text/latex": [
       "\\begin{tabular}{r|lllllllllllllll}\n",
       "  & PC4 & PROVINCIE & BEVOEGD.GEZAG.NUMMER & BRIN.NUMMER & VESTIGINGSNUMMER & VESTIGINGSNAAM & STRAATNAAM & HUISNUMMER.TOEVOEGING & POSTCODE & PLAATSNAAM & GEMEENTENUMMER & GEMEENTENAAM & DENOMINATIE & TELEFOONNUMMER & INTERNETADRES\\\\\n",
       "\\hline\n",
       "\t29 & 1065                                                                             & Noord-Holland                                                                    & 41217                                                                            & 01TC                                                                             & 01TC00                                                                           & Scholengemeenschap voor Vwo Havo Mavo Het Hervormd Lyceum                        & Hemsterhuisstraat                                                                & 79                                                                               & 1065 JX                                                                          & AMSTERDAM                                                                        & 363                                                                              & AMSTERDAM                                                                        & Protestants-Christelijk                                                          & 206152780                                                                        & www.hlw.nl                                                                      \\\\\n",
       "\t38 & 1071                                                                             & Noord-Holland                                                                    & 40776                                                                            & 02AN                                                                             & 02AN00                                                                           & Fons Vitae Lyceum Rooms Katholiek Scholengemeenschap voor Vwo en Havo            & Reijnier Vinkeleskade                                                            & 53                                                                               & 1071 SW                                                                          & AMSTERDAM                                                                        & 363                                                                              & AMSTERDAM                                                                        & Rooms-Katholiek                                                                  & 206625274                                                                        & www.fonsvitae.nl                                                                \\\\\n",
       "\t50 & 1077                                                                             & Noord-Holland                                                                    & 41217                                                                            & 02AR                                                                             & 02AR00                                                                           & Scholengemeenschap voor Athenum en Havo Het Hervormd Lyceum Zuid                 & Brahmsstraat                                                                     & 7                                                                                & 1077 HE                                                                          & AMSTERDAM                                                                        & 363                                                                              & AMSTERDAM                                                                        & Protestants-Christelijk                                                          & 206627983                                                                        & www.hlz.nl                                                                      \\\\\n",
       "\t51 & 1077                                                                             & Noord-Holland                                                                    & 40776                                                                            & 14SE                                                                             & 14SE00                                                                           & Scholengemeenschap Sint Nicolaas Lyceum voor Lyceum en Havo                      & Beethovenplein                                                                   & 2                                                                                & 1077 WM                                                                          & AMSTERDAM                                                                        & 363                                                                              & AMSTERDAM                                                                        & Rooms-Katholiek                                                                  & 206445151                                                                        & www.nicolaas.nl                                                                 \\\\\n",
       "\t57 & 1081                                                                             & Noord-Holland                                                                    & 41217                                                                            & 14VY                                                                             & 14VY00                                                                           & Chr Sgm Buitenveldert v Gymn Ath Havo en Mavo                                    & De Cuserstraat                                                                   & 3                                                                                & 1081 CK                                                                          & AMSTERDAM                                                                        & 363                                                                              & AMSTERDAM                                                                        & Protestants-Christelijk                                                          & 206423902                                                                        & www.csb-amsterdam.nl                                                            \\\\\n",
       "\t80 & 1132                                                                             & Noord-Holland                                                                    & 72853                                                                            & 20GS                                                                             & 20GS00                                                                           & Don Bosco College Atheneum Havo Vmbo Lwoo                                        & Heideweg                                                                         & 2                                                                                & 1132 DB                                                                          & VOLENDAM                                                                         & 385                                                                              & EDAM-VOLENDAM                                                                    & Rooms-Katholiek                                                                  & 299399299                                                                        & www.donboscocollege.com                                                         \\\\\n",
       "\t81 & 1132                                                                             & Noord-Holland                                                                    & 72853                                                                            & 20GS                                                                             & 20GS01                                                                           & Don Bosco College Atheneum Havo Vmbo Lwoo                                        & Val van Urk                                                                      & 1                                                                                & 1132 BH                                                                          & VOLENDAM                                                                         & 385                                                                              & EDAM-VOLENDAM                                                                    & Rooms-Katholiek                                                                  &        NA                                                                        &                                                                                 \\\\\n",
       "\t86 & 1185                                                                             & Noord-Holland                                                                    & 41217                                                                            & 02TE                                                                             & 02TE00                                                                           & H Wesselink College Christelijke Scholengemeenschap voor Vwo Havo Mavo           & Startbaan                                                                        & 3                                                                                & 1185 XP                                                                          & AMSTELVEEN                                                                       & 362                                                                              & AMSTELVEEN                                                                       & Protestants-Christelijk                                                          & 206459751                                                                        & www.hermannwesselinkcollege.nl/                                                 \\\\\n",
       "\t87 & 1185                                                                             & Noord-Holland                                                                    & 71553                                                                            & 02QZ                                                                             & 02QZ00                                                                           & Keizer Karel College Vwo Havo                                                    & Elegast                                                                          & 5                                                                                & 1185 AA                                                                          & AMSTELVEEN                                                                       & 362                                                                              & AMSTELVEEN                                                                       & Rooms-Katholiek                                                                  & 206415700                                                                        & www.keizerkarelcollege.nl/                                                      \\\\\n",
       "\t88 & 1211                                                                             & Noord-Holland                                                                    & 40676                                                                            & 00PS                                                                             & 00PS05                                                                           & Verenigde Scholen J.A. Alberdingk Thijm VO. Locatie: St. Aloysius College        & Schapenkamp                                                                      & 200                                                                              & 1211 PB                                                                          & HILVERSUM                                                                        & 402                                                                              & HILVERSUM                                                                        & Rooms-Katholiek                                                                  & 356247481                                                                        & www.atscholen.nl                                                                \\\\\n",
       "\\end{tabular}\n"
      ],
      "text/markdown": [
       "\n",
       "| <!--/--> | PC4 | PROVINCIE | BEVOEGD.GEZAG.NUMMER | BRIN.NUMMER | VESTIGINGSNUMMER | VESTIGINGSNAAM | STRAATNAAM | HUISNUMMER.TOEVOEGING | POSTCODE | PLAATSNAAM | GEMEENTENUMMER | GEMEENTENAAM | DENOMINATIE | TELEFOONNUMMER | INTERNETADRES | \n",
       "|---|---|---|---|---|---|---|---|---|---|\n",
       "| 29 | 1065                                                                             | Noord-Holland                                                                    | 41217                                                                            | 01TC                                                                             | 01TC00                                                                           | Scholengemeenschap voor Vwo Havo Mavo Het Hervormd Lyceum                        | Hemsterhuisstraat                                                                | 79                                                                               | 1065 JX                                                                          | AMSTERDAM                                                                        | 363                                                                              | AMSTERDAM                                                                        | Protestants-Christelijk                                                          | 206152780                                                                        | www.hlw.nl                                                                       | \n",
       "| 38 | 1071                                                                             | Noord-Holland                                                                    | 40776                                                                            | 02AN                                                                             | 02AN00                                                                           | Fons Vitae Lyceum Rooms Katholiek Scholengemeenschap voor Vwo en Havo            | Reijnier Vinkeleskade                                                            | 53                                                                               | 1071 SW                                                                          | AMSTERDAM                                                                        | 363                                                                              | AMSTERDAM                                                                        | Rooms-Katholiek                                                                  | 206625274                                                                        | www.fonsvitae.nl                                                                 | \n",
       "| 50 | 1077                                                                             | Noord-Holland                                                                    | 41217                                                                            | 02AR                                                                             | 02AR00                                                                           | Scholengemeenschap voor Athenum en Havo Het Hervormd Lyceum Zuid                 | Brahmsstraat                                                                     | 7                                                                                | 1077 HE                                                                          | AMSTERDAM                                                                        | 363                                                                              | AMSTERDAM                                                                        | Protestants-Christelijk                                                          | 206627983                                                                        | www.hlz.nl                                                                       | \n",
       "| 51 | 1077                                                                             | Noord-Holland                                                                    | 40776                                                                            | 14SE                                                                             | 14SE00                                                                           | Scholengemeenschap Sint Nicolaas Lyceum voor Lyceum en Havo                      | Beethovenplein                                                                   | 2                                                                                | 1077 WM                                                                          | AMSTERDAM                                                                        | 363                                                                              | AMSTERDAM                                                                        | Rooms-Katholiek                                                                  | 206445151                                                                        | www.nicolaas.nl                                                                  | \n",
       "| 57 | 1081                                                                             | Noord-Holland                                                                    | 41217                                                                            | 14VY                                                                             | 14VY00                                                                           | Chr Sgm Buitenveldert v Gymn Ath Havo en Mavo                                    | De Cuserstraat                                                                   | 3                                                                                | 1081 CK                                                                          | AMSTERDAM                                                                        | 363                                                                              | AMSTERDAM                                                                        | Protestants-Christelijk                                                          | 206423902                                                                        | www.csb-amsterdam.nl                                                             | \n",
       "| 80 | 1132                                                                             | Noord-Holland                                                                    | 72853                                                                            | 20GS                                                                             | 20GS00                                                                           | Don Bosco College Atheneum Havo Vmbo Lwoo                                        | Heideweg                                                                         | 2                                                                                | 1132 DB                                                                          | VOLENDAM                                                                         | 385                                                                              | EDAM-VOLENDAM                                                                    | Rooms-Katholiek                                                                  | 299399299                                                                        | www.donboscocollege.com                                                          | \n",
       "| 81 | 1132                                                                             | Noord-Holland                                                                    | 72853                                                                            | 20GS                                                                             | 20GS01                                                                           | Don Bosco College Atheneum Havo Vmbo Lwoo                                        | Val van Urk                                                                      | 1                                                                                | 1132 BH                                                                          | VOLENDAM                                                                         | 385                                                                              | EDAM-VOLENDAM                                                                    | Rooms-Katholiek                                                                  |        NA                                                                        |                                                                                  | \n",
       "| 86 | 1185                                                                             | Noord-Holland                                                                    | 41217                                                                            | 02TE                                                                             | 02TE00                                                                           | H Wesselink College Christelijke Scholengemeenschap voor Vwo Havo Mavo           | Startbaan                                                                        | 3                                                                                | 1185 XP                                                                          | AMSTELVEEN                                                                       | 362                                                                              | AMSTELVEEN                                                                       | Protestants-Christelijk                                                          | 206459751                                                                        | www.hermannwesselinkcollege.nl/                                                  | \n",
       "| 87 | 1185                                                                             | Noord-Holland                                                                    | 71553                                                                            | 02QZ                                                                             | 02QZ00                                                                           | Keizer Karel College Vwo Havo                                                    | Elegast                                                                          | 5                                                                                | 1185 AA                                                                          | AMSTELVEEN                                                                       | 362                                                                              | AMSTELVEEN                                                                       | Rooms-Katholiek                                                                  | 206415700                                                                        | www.keizerkarelcollege.nl/                                                       | \n",
       "| 88 | 1211                                                                             | Noord-Holland                                                                    | 40676                                                                            | 00PS                                                                             | 00PS05                                                                           | Verenigde Scholen J.A. Alberdingk Thijm VO. Locatie: St. Aloysius College        | Schapenkamp                                                                      | 200                                                                              | 1211 PB                                                                          | HILVERSUM                                                                        | 402                                                                              | HILVERSUM                                                                        | Rooms-Katholiek                                                                  | 356247481                                                                        | www.atscholen.nl                                                                 | \n",
       "\n",
       "\n"
      ],
      "text/plain": [
       "   PC4  PROVINCIE     BEVOEGD.GEZAG.NUMMER BRIN.NUMMER VESTIGINGSNUMMER\n",
       "29 1065 Noord-Holland 41217                01TC        01TC00          \n",
       "38 1071 Noord-Holland 40776                02AN        02AN00          \n",
       "50 1077 Noord-Holland 41217                02AR        02AR00          \n",
       "51 1077 Noord-Holland 40776                14SE        14SE00          \n",
       "57 1081 Noord-Holland 41217                14VY        14VY00          \n",
       "80 1132 Noord-Holland 72853                20GS        20GS00          \n",
       "81 1132 Noord-Holland 72853                20GS        20GS01          \n",
       "86 1185 Noord-Holland 41217                02TE        02TE00          \n",
       "87 1185 Noord-Holland 71553                02QZ        02QZ00          \n",
       "88 1211 Noord-Holland 40676                00PS        00PS05          \n",
       "   VESTIGINGSNAAM                                                           \n",
       "29 Scholengemeenschap voor Vwo Havo Mavo Het Hervormd Lyceum                \n",
       "38 Fons Vitae Lyceum Rooms Katholiek Scholengemeenschap voor Vwo en Havo    \n",
       "50 Scholengemeenschap voor Athenum en Havo Het Hervormd Lyceum Zuid         \n",
       "51 Scholengemeenschap Sint Nicolaas Lyceum voor Lyceum en Havo              \n",
       "57 Chr Sgm Buitenveldert v Gymn Ath Havo en Mavo                            \n",
       "80 Don Bosco College Atheneum Havo Vmbo Lwoo                                \n",
       "81 Don Bosco College Atheneum Havo Vmbo Lwoo                                \n",
       "86 H Wesselink College Christelijke Scholengemeenschap voor Vwo Havo Mavo   \n",
       "87 Keizer Karel College Vwo Havo                                            \n",
       "88 Verenigde Scholen J.A. Alberdingk Thijm VO. Locatie: St. Aloysius College\n",
       "   STRAATNAAM            HUISNUMMER.TOEVOEGING POSTCODE PLAATSNAAM\n",
       "29 Hemsterhuisstraat     79                    1065 JX  AMSTERDAM \n",
       "38 Reijnier Vinkeleskade 53                    1071 SW  AMSTERDAM \n",
       "50 Brahmsstraat          7                     1077 HE  AMSTERDAM \n",
       "51 Beethovenplein        2                     1077 WM  AMSTERDAM \n",
       "57 De Cuserstraat        3                     1081 CK  AMSTERDAM \n",
       "80 Heideweg              2                     1132 DB  VOLENDAM  \n",
       "81 Val van Urk           1                     1132 BH  VOLENDAM  \n",
       "86 Startbaan             3                     1185 XP  AMSTELVEEN\n",
       "87 Elegast               5                     1185 AA  AMSTELVEEN\n",
       "88 Schapenkamp           200                   1211 PB  HILVERSUM \n",
       "   GEMEENTENUMMER GEMEENTENAAM  DENOMINATIE             TELEFOONNUMMER\n",
       "29 363            AMSTERDAM     Protestants-Christelijk 206152780     \n",
       "38 363            AMSTERDAM     Rooms-Katholiek         206625274     \n",
       "50 363            AMSTERDAM     Protestants-Christelijk 206627983     \n",
       "51 363            AMSTERDAM     Rooms-Katholiek         206445151     \n",
       "57 363            AMSTERDAM     Protestants-Christelijk 206423902     \n",
       "80 385            EDAM-VOLENDAM Rooms-Katholiek         299399299     \n",
       "81 385            EDAM-VOLENDAM Rooms-Katholiek                NA     \n",
       "86 362            AMSTELVEEN    Protestants-Christelijk 206459751     \n",
       "87 362            AMSTELVEEN    Rooms-Katholiek         206415700     \n",
       "88 402            HILVERSUM     Rooms-Katholiek         356247481     \n",
       "   INTERNETADRES                                                                   \n",
       "29 www.hlw.nl                                                                      \n",
       "38 www.fonsvitae.nl                                                                \n",
       "50 www.hlz.nl                                                                      \n",
       "51 www.nicolaas.nl                                                                 \n",
       "57 www.csb-amsterdam.nl                                                            \n",
       "80 www.donboscocollege.com                                                         \n",
       "81                                                                                 \n",
       "86 www.hermannwesselinkcollege.nl/                                                 \n",
       "87 www.keizerkarelcollege.nl/                                                      \n",
       "88 www.atscholen.nl                                                                "
      ]
     },
     "metadata": {},
     "output_type": "display_data"
    }
   ],
   "source": [
    "a<- school_loc\n",
    "b<- a[a$DENOMINATIE == 'Rooms-Katholiek' | a$DENOMINATIE == 'Protestants-Christelijk',]\n",
    "b[1:10,1:15]\n",
    "#we made a function that selected the desired variables of the denominatie column (Rooms-Katholiek and Protestants_Christelijk)."
   ]
  },
  {
   "cell_type": "markdown",
   "metadata": {},
   "source": [
    "## Assignment 2e\n",
    "\n",
    "Create a map of Catholic and Protestant schools in the Netherlands\n"
   ]
  },
  {
   "cell_type": "code",
   "execution_count": 264,
   "metadata": {},
   "outputs": [
    {
     "ename": "ERROR",
     "evalue": "Error in AddPointsLayer(.): argument \"coordinateData\" is missing, with no default\n",
     "output_type": "error",
     "traceback": [
      "Error in AddPointsLayer(.): argument \"coordinateData\" is missing, with no default\nTraceback:\n",
      "1. AddMapLayer(MapPlot(), map_municipal) %>% AddPointsLayer()",
      "2. withVisible(eval(quote(`_fseq`(`_lhs`)), env, env))",
      "3. eval(quote(`_fseq`(`_lhs`)), env, env)",
      "4. eval(quote(`_fseq`(`_lhs`)), env, env)",
      "5. `_fseq`(`_lhs`)",
      "6. freduce(value, `_function_list`)",
      "7. withVisible(function_list[[k]](value))",
      "8. function_list[[k]](value)",
      "9. AddPointsLayer(.)"
     ]
    }
   ],
   "source": [
    "AddMapLayer(MapPlot(), map_municipal) %>%\n",
    "    AddPointsLayer()\n",
    "#We unfortunately did not succeed in making the seccond plot of the dutch map. "
   ]
  },
  {
   "cell_type": "markdown",
   "metadata": {},
   "source": [
    "End of notebook"
   ]
  }
 ],
 "metadata": {
  "anaconda-cloud": {},
  "kernelspec": {
   "display_name": "R",
   "language": "R",
   "name": "ir"
  },
  "language_info": {
   "codemirror_mode": "r",
   "file_extension": ".r",
   "mimetype": "text/x-r-source",
   "name": "R",
   "pygments_lexer": "r",
   "version": "3.4.3"
  }
 },
 "nbformat": 4,
 "nbformat_minor": 1
}
